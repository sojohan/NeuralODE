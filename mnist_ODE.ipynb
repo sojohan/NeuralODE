{
  "cells": [
    {
      "cell_type": "code",
      "execution_count": 1,
      "id": "46cb69c7",
      "metadata": {
        "id": "46cb69c7"
      },
      "outputs": [],
      "source": [
        "import os\n",
        "import argparse\n",
        "import logging\n",
        "import time\n",
        "import numpy as np\n",
        "import torch\n",
        "import torch.nn as nn\n",
        "from torch.utils.data import DataLoader\n",
        "import torchvision.datasets as datasets\n",
        "import torchvision.transforms as transforms\n"
      ]
    },
    {
      "cell_type": "code",
      "source": [
        "!pip install torchinfo"
      ],
      "metadata": {
        "colab": {
          "base_uri": "https://localhost:8080/"
        },
        "id": "24jCTPcgPL3a",
        "outputId": "56da557b-d40f-4cd4-fb53-91e4318d3493"
      },
      "id": "24jCTPcgPL3a",
      "execution_count": 2,
      "outputs": [
        {
          "output_type": "stream",
          "name": "stdout",
          "text": [
            "Looking in indexes: https://pypi.org/simple, https://us-python.pkg.dev/colab-wheels/public/simple/\n",
            "Requirement already satisfied: torchinfo in /usr/local/lib/python3.8/dist-packages (1.7.1)\n"
          ]
        }
      ]
    },
    {
      "cell_type": "code",
      "source": [
        "from torchinfo import summary"
      ],
      "metadata": {
        "id": "7TnO9usRPP9z"
      },
      "id": "7TnO9usRPP9z",
      "execution_count": 3,
      "outputs": []
    },
    {
      "cell_type": "code",
      "source": [
        "!pip install torchdiffeq"
      ],
      "metadata": {
        "colab": {
          "base_uri": "https://localhost:8080/"
        },
        "id": "tt4Uwh0CXFH0",
        "outputId": "d1cf46e0-ada8-48cc-9d9e-d3d0977e324d"
      },
      "id": "tt4Uwh0CXFH0",
      "execution_count": 4,
      "outputs": [
        {
          "output_type": "stream",
          "name": "stdout",
          "text": [
            "Looking in indexes: https://pypi.org/simple, https://us-python.pkg.dev/colab-wheels/public/simple/\n",
            "Requirement already satisfied: torchdiffeq in /usr/local/lib/python3.8/dist-packages (0.2.3)\n",
            "Requirement already satisfied: torch>=1.3.0 in /usr/local/lib/python3.8/dist-packages (from torchdiffeq) (1.13.0+cu116)\n",
            "Requirement already satisfied: scipy>=1.4.0 in /usr/local/lib/python3.8/dist-packages (from torchdiffeq) (1.7.3)\n",
            "Requirement already satisfied: numpy<1.23.0,>=1.16.5 in /usr/local/lib/python3.8/dist-packages (from scipy>=1.4.0->torchdiffeq) (1.21.6)\n",
            "Requirement already satisfied: typing-extensions in /usr/local/lib/python3.8/dist-packages (from torch>=1.3.0->torchdiffeq) (4.4.0)\n"
          ]
        }
      ]
    },
    {
      "cell_type": "code",
      "source": [
        "!pip install wandb"
      ],
      "metadata": {
        "colab": {
          "base_uri": "https://localhost:8080/"
        },
        "id": "cT7Ewi1T0CeT",
        "outputId": "46f3301d-4f19-40b8-d48f-d70f67fb1b61"
      },
      "id": "cT7Ewi1T0CeT",
      "execution_count": 5,
      "outputs": [
        {
          "output_type": "stream",
          "name": "stdout",
          "text": [
            "Looking in indexes: https://pypi.org/simple, https://us-python.pkg.dev/colab-wheels/public/simple/\n",
            "Requirement already satisfied: wandb in /usr/local/lib/python3.8/dist-packages (0.13.7)\n",
            "Requirement already satisfied: pathtools in /usr/local/lib/python3.8/dist-packages (from wandb) (0.1.2)\n",
            "Requirement already satisfied: setuptools in /usr/local/lib/python3.8/dist-packages (from wandb) (57.4.0)\n",
            "Requirement already satisfied: protobuf!=4.21.0,<5,>=3.12.0 in /usr/local/lib/python3.8/dist-packages (from wandb) (3.19.6)\n",
            "Requirement already satisfied: Click!=8.0.0,>=7.0 in /usr/local/lib/python3.8/dist-packages (from wandb) (7.1.2)\n",
            "Requirement already satisfied: GitPython>=1.0.0 in /usr/local/lib/python3.8/dist-packages (from wandb) (3.1.30)\n",
            "Requirement already satisfied: requests<3,>=2.0.0 in /usr/local/lib/python3.8/dist-packages (from wandb) (2.25.1)\n",
            "Requirement already satisfied: promise<3,>=2.0 in /usr/local/lib/python3.8/dist-packages (from wandb) (2.3)\n",
            "Requirement already satisfied: docker-pycreds>=0.4.0 in /usr/local/lib/python3.8/dist-packages (from wandb) (0.4.0)\n",
            "Requirement already satisfied: psutil>=5.0.0 in /usr/local/lib/python3.8/dist-packages (from wandb) (5.4.8)\n",
            "Requirement already satisfied: sentry-sdk>=1.0.0 in /usr/local/lib/python3.8/dist-packages (from wandb) (1.12.1)\n",
            "Requirement already satisfied: shortuuid>=0.5.0 in /usr/local/lib/python3.8/dist-packages (from wandb) (1.0.11)\n",
            "Requirement already satisfied: setproctitle in /usr/local/lib/python3.8/dist-packages (from wandb) (1.3.2)\n",
            "Requirement already satisfied: PyYAML in /usr/local/lib/python3.8/dist-packages (from wandb) (6.0)\n",
            "Requirement already satisfied: six>=1.4.0 in /usr/local/lib/python3.8/dist-packages (from docker-pycreds>=0.4.0->wandb) (1.15.0)\n",
            "Requirement already satisfied: gitdb<5,>=4.0.1 in /usr/local/lib/python3.8/dist-packages (from GitPython>=1.0.0->wandb) (4.0.10)\n",
            "Requirement already satisfied: urllib3<1.27,>=1.21.1 in /usr/local/lib/python3.8/dist-packages (from requests<3,>=2.0.0->wandb) (1.26.13)\n",
            "Requirement already satisfied: certifi>=2017.4.17 in /usr/local/lib/python3.8/dist-packages (from requests<3,>=2.0.0->wandb) (2022.12.7)\n",
            "Requirement already satisfied: idna<3,>=2.5 in /usr/local/lib/python3.8/dist-packages (from requests<3,>=2.0.0->wandb) (2.10)\n",
            "Requirement already satisfied: chardet<5,>=3.0.2 in /usr/local/lib/python3.8/dist-packages (from requests<3,>=2.0.0->wandb) (4.0.0)\n",
            "Requirement already satisfied: smmap<6,>=3.0.1 in /usr/local/lib/python3.8/dist-packages (from gitdb<5,>=4.0.1->GitPython>=1.0.0->wandb) (5.0.0)\n"
          ]
        }
      ]
    },
    {
      "cell_type": "code",
      "execution_count": 6,
      "id": "3bb88d86",
      "metadata": {
        "id": "3bb88d86"
      },
      "outputs": [],
      "source": [
        "import wandb"
      ]
    },
    {
      "cell_type": "code",
      "execution_count": 7,
      "id": "bda777b0",
      "metadata": {
        "id": "bda777b0",
        "outputId": "a9bd36ac-3f30-46a9-8f4d-34291aa5f891",
        "colab": {
          "base_uri": "https://localhost:8080/",
          "height": 108
        }
      },
      "outputs": [
        {
          "output_type": "stream",
          "name": "stderr",
          "text": [
            "ERROR:wandb.jupyter:Failed to detect the name of this notebook, you can set it manually with the WANDB_NOTEBOOK_NAME environment variable to enable code saving.\n"
          ]
        },
        {
          "output_type": "display_data",
          "data": {
            "text/plain": [
              "<IPython.core.display.Javascript object>"
            ],
            "application/javascript": [
              "\n",
              "        window._wandbApiKey = new Promise((resolve, reject) => {\n",
              "            function loadScript(url) {\n",
              "            return new Promise(function(resolve, reject) {\n",
              "                let newScript = document.createElement(\"script\");\n",
              "                newScript.onerror = reject;\n",
              "                newScript.onload = resolve;\n",
              "                document.body.appendChild(newScript);\n",
              "                newScript.src = url;\n",
              "            });\n",
              "            }\n",
              "            loadScript(\"https://cdn.jsdelivr.net/npm/postmate/build/postmate.min.js\").then(() => {\n",
              "            const iframe = document.createElement('iframe')\n",
              "            iframe.style.cssText = \"width:0;height:0;border:none\"\n",
              "            document.body.appendChild(iframe)\n",
              "            const handshake = new Postmate({\n",
              "                container: iframe,\n",
              "                url: 'https://wandb.ai/authorize'\n",
              "            });\n",
              "            const timeout = setTimeout(() => reject(\"Couldn't auto authenticate\"), 5000)\n",
              "            handshake.then(function(child) {\n",
              "                child.on('authorize', data => {\n",
              "                    clearTimeout(timeout)\n",
              "                    resolve(data)\n",
              "                });\n",
              "            });\n",
              "            })\n",
              "        });\n",
              "    "
            ]
          },
          "metadata": {}
        },
        {
          "output_type": "stream",
          "name": "stderr",
          "text": [
            "\u001b[34m\u001b[1mwandb\u001b[0m: Appending key for api.wandb.ai to your netrc file: /root/.netrc\n"
          ]
        },
        {
          "output_type": "execute_result",
          "data": {
            "text/plain": [
              "True"
            ]
          },
          "metadata": {},
          "execution_count": 7
        }
      ],
      "source": [
        "wandb.login()"
      ]
    },
    {
      "cell_type": "code",
      "execution_count": 8,
      "id": "3aefb176",
      "metadata": {
        "id": "3aefb176"
      },
      "outputs": [],
      "source": [
        "network='resnet' # choices=['resnet', 'odenet']\n",
        "tol=1e-3 # type float baseline=1e-3\n",
        "block=6\n",
        "adjoint=False #choices=[True, False]\n",
        "downsampling_method='conv' #  choices=['conv', 'res']\n",
        "nepochs=10 # type=int default=160\n",
        "data_aug=True #choices=[True, False]\n",
        "lr=0.1 # type=float\n",
        "batch_size=1000 # type=int\n",
        "test_batch_size=1000 #thpe=int\n",
        "debug='store_true'\n",
        "gpu=0  # type=int"
      ]
    },
    {
      "cell_type": "code",
      "execution_count": 9,
      "id": "088ce791",
      "metadata": {
        "id": "088ce791"
      },
      "outputs": [],
      "source": [
        "device = torch.device('cuda:' + str(gpu) if torch.cuda.is_available() else 'cpu')"
      ]
    },
    {
      "cell_type": "code",
      "source": [
        "device"
      ],
      "metadata": {
        "colab": {
          "base_uri": "https://localhost:8080/"
        },
        "id": "wGScm5PxlGQD",
        "outputId": "f99f6412-49e2-4de1-f573-1f23dd8083a2"
      },
      "id": "wGScm5PxlGQD",
      "execution_count": 10,
      "outputs": [
        {
          "output_type": "execute_result",
          "data": {
            "text/plain": [
              "device(type='cuda', index=0)"
            ]
          },
          "metadata": {},
          "execution_count": 10
        }
      ]
    },
    {
      "cell_type": "code",
      "execution_count": 11,
      "id": "0869c470",
      "metadata": {
        "id": "0869c470"
      },
      "outputs": [],
      "source": [
        "if adjoint:\n",
        "    from torchdiffeq import odeint_adjoint as odeint\n",
        "else:\n",
        "    from torchdiffeq import odeint"
      ]
    },
    {
      "cell_type": "code",
      "execution_count": 12,
      "id": "ba09af5d",
      "metadata": {
        "id": "ba09af5d"
      },
      "outputs": [],
      "source": [
        "def conv3x3(in_planes, out_planes, stride=1):\n",
        "    \"\"\"3x3 convolution with padding\"\"\"\n",
        "    return nn.Conv2d(in_planes, out_planes, kernel_size=3, stride=stride, padding=1, bias=False)"
      ]
    },
    {
      "cell_type": "code",
      "execution_count": 13,
      "id": "3c0efcfc",
      "metadata": {
        "id": "3c0efcfc"
      },
      "outputs": [],
      "source": [
        "def conv1x1(in_planes, out_planes, stride=1):\n",
        "    \"\"\"1x1 convolution\"\"\"\n",
        "    return nn.Conv2d(in_planes, out_planes, kernel_size=1, stride=stride, bias=False)"
      ]
    },
    {
      "cell_type": "code",
      "execution_count": 14,
      "id": "36966487",
      "metadata": {
        "id": "36966487"
      },
      "outputs": [],
      "source": [
        "def norm(dim):\n",
        "    return nn.GroupNorm(min(32, dim), dim)"
      ]
    },
    {
      "cell_type": "code",
      "execution_count": 15,
      "id": "531beeca",
      "metadata": {
        "id": "531beeca"
      },
      "outputs": [],
      "source": [
        "class ResBlock(nn.Module):\n",
        "    expansion = 1\n",
        "\n",
        "    def __init__(self, inplanes, planes, stride=1, downsample=None):\n",
        "        super(ResBlock, self).__init__()\n",
        "        self.norm1 = norm(inplanes)\n",
        "        self.relu = nn.ReLU(inplace=True)\n",
        "        self.downsample = downsample\n",
        "        self.conv1 = conv3x3(inplanes, planes, stride)\n",
        "        self.norm2 = norm(planes)\n",
        "        self.conv2 = conv3x3(planes, planes)\n",
        "\n",
        "    def forward(self, x):\n",
        "        shortcut = x\n",
        "\n",
        "        out = self.relu(self.norm1(x))\n",
        "\n",
        "        if self.downsample is not None:\n",
        "            shortcut = self.downsample(out)\n",
        "\n",
        "        out = self.conv1(out)\n",
        "        out = self.norm2(out)\n",
        "        out = self.relu(out)\n",
        "        out = self.conv2(out)\n",
        "\n",
        "        return out + shortcut"
      ]
    },
    {
      "cell_type": "code",
      "execution_count": 16,
      "id": "bc3fafcf",
      "metadata": {
        "id": "bc3fafcf"
      },
      "outputs": [],
      "source": [
        "class ConcatConv2d(nn.Module):\n",
        "\n",
        "    def __init__(self, dim_in, dim_out, ksize=3, stride=1, padding=0, dilation=1, groups=1, bias=True, transpose=False):\n",
        "        super(ConcatConv2d, self).__init__()\n",
        "        module = nn.ConvTranspose2d if transpose else nn.Conv2d\n",
        "        self._layer = module(\n",
        "            dim_in + 1, dim_out, kernel_size=ksize, stride=stride, padding=padding, dilation=dilation, groups=groups,\n",
        "            bias=bias\n",
        "        )\n",
        "\n",
        "    def forward(self, t, x):\n",
        "        tt = torch.ones_like(x[:, :1, :, :]) * t\n",
        "        ttx = torch.cat([tt, x], 1)\n",
        "        return self._layer(ttx)"
      ]
    },
    {
      "cell_type": "code",
      "execution_count": 17,
      "id": "4aedbc50",
      "metadata": {
        "id": "4aedbc50"
      },
      "outputs": [],
      "source": [
        "class ODEfunc(nn.Module):\n",
        "\n",
        "    def __init__(self, dim):\n",
        "        super(ODEfunc, self).__init__()\n",
        "        self.norm1 = norm(dim)\n",
        "        self.relu = nn.ReLU(inplace=True)\n",
        "        self.conv1 = ConcatConv2d(dim, dim, 3, 1, 1)\n",
        "        self.norm2 = norm(dim)\n",
        "        self.conv2 = ConcatConv2d(dim, dim, 3, 1, 1)\n",
        "        self.norm3 = norm(dim)\n",
        "        self.nfe = 0\n",
        "\n",
        "    def forward(self, t, x):\n",
        "        self.nfe += 1\n",
        "        out = self.norm1(x)\n",
        "        out = self.relu(out)\n",
        "        out = self.conv1(t, out)\n",
        "        out = self.norm2(out)\n",
        "        out = self.relu(out)\n",
        "        out = self.conv2(t, out)\n",
        "        out = self.norm3(out)\n",
        "        return out\n"
      ]
    },
    {
      "cell_type": "code",
      "execution_count": 18,
      "id": "26264c0e",
      "metadata": {
        "id": "26264c0e"
      },
      "outputs": [],
      "source": [
        "class ODEBlock(nn.Module):\n",
        "\n",
        "    def __init__(self, odefunc):\n",
        "        super(ODEBlock, self).__init__()\n",
        "        self.odefunc = odefunc\n",
        "        self.integration_time = torch.tensor([0, 1]).float()\n",
        "\n",
        "    def forward(self, x):\n",
        "        self.integration_time = self.integration_time.type_as(x)\n",
        "        out = odeint(self.odefunc, x, self.integration_time, rtol=tol, atol=tol)\n",
        "        return out[1]\n",
        "\n",
        "    @property\n",
        "    def nfe(self):\n",
        "        return self.odefunc.nfe\n",
        "\n",
        "    @nfe.setter\n",
        "    def nfe(self, value):\n",
        "        self.odefunc.nfe = value"
      ]
    },
    {
      "cell_type": "code",
      "execution_count": 19,
      "id": "ae57aee3",
      "metadata": {
        "id": "ae57aee3"
      },
      "outputs": [],
      "source": [
        "class Flatten(nn.Module):\n",
        "\n",
        "    def __init__(self):\n",
        "        super(Flatten, self).__init__()\n",
        "\n",
        "    def forward(self, x):\n",
        "        shape = torch.prod(torch.tensor(x.shape[1:])).item()\n",
        "        return x.view(-1, shape)\n"
      ]
    },
    {
      "cell_type": "code",
      "execution_count": 20,
      "id": "414aeee0",
      "metadata": {
        "id": "414aeee0"
      },
      "outputs": [],
      "source": [
        "class RunningAverageMeter(object):\n",
        "    \"\"\"Computes and stores the average and current value\"\"\"\n",
        "\n",
        "    def __init__(self, momentum=0.99):\n",
        "        self.momentum = momentum\n",
        "        self.reset()\n",
        "\n",
        "    def reset(self):\n",
        "        self.val = None\n",
        "        self.avg = 0\n",
        "\n",
        "    def update(self, val):\n",
        "        if self.val is None:\n",
        "            self.avg = val\n",
        "        else:\n",
        "            self.avg = self.avg * self.momentum + val * (1 - self.momentum)\n",
        "        self.val = val\n"
      ]
    },
    {
      "cell_type": "code",
      "execution_count": 21,
      "id": "a6b4b0a3",
      "metadata": {
        "id": "a6b4b0a3"
      },
      "outputs": [],
      "source": [
        "def get_mnist_loaders(data_aug=False, batch_size=128, test_batch_size=1000, perc=1.0):\n",
        "    if data_aug:\n",
        "        transform_train = transforms.Compose([\n",
        "            transforms.RandomCrop(28, padding=4),\n",
        "            transforms.ToTensor(),\n",
        "        ])\n",
        "    else:\n",
        "        transform_train = transforms.Compose([\n",
        "            transforms.ToTensor(),\n",
        "        ])\n",
        "\n",
        "    transform_test = transforms.Compose([\n",
        "        transforms.ToTensor(),\n",
        "    ])\n",
        "\n",
        "    train_loader = DataLoader(\n",
        "        datasets.MNIST(root='.data/mnist', train=True, download=True, transform=transform_train), batch_size=batch_size,\n",
        "        shuffle=True, num_workers=2, drop_last=True\n",
        "    )\n",
        "\n",
        "    train_eval_loader = DataLoader(\n",
        "        datasets.MNIST(root='.data/mnist', train=True, download=True, transform=transform_test),\n",
        "        batch_size=test_batch_size, shuffle=False, num_workers=2, drop_last=True\n",
        "    )\n",
        "\n",
        "    test_loader = DataLoader(\n",
        "        datasets.MNIST(root='.data/mnist', train=False, download=True, transform=transform_test),\n",
        "        batch_size=test_batch_size, shuffle=False, num_workers=2, drop_last=True\n",
        "    )\n",
        "\n",
        "    return train_loader, test_loader, train_eval_loader"
      ]
    },
    {
      "cell_type": "code",
      "execution_count": 22,
      "id": "832bc85f",
      "metadata": {
        "id": "832bc85f"
      },
      "outputs": [],
      "source": [
        "def inf_generator(iterable):\n",
        "    \"\"\"Allows training with DataLoaders in a single infinite loop:\n",
        "        for i, (x, y) in enumerate(inf_generator(train_loader)):\n",
        "    \"\"\"\n",
        "    iterator = iterable.__iter__()\n",
        "    while True:\n",
        "        try:\n",
        "            yield iterator.__next__()\n",
        "        except StopIteration:\n",
        "            iterator = iterable.__iter__()"
      ]
    },
    {
      "cell_type": "code",
      "execution_count": 23,
      "id": "44d83d4d",
      "metadata": {
        "id": "44d83d4d"
      },
      "outputs": [],
      "source": [
        "def learning_rate_with_decay(batch_size, batch_denom, batches_per_epoch, boundary_epochs, decay_rates):\n",
        "    initial_learning_rate = lr * batch_size / batch_denom\n",
        "\n",
        "    boundaries = [int(batches_per_epoch * epoch) for epoch in boundary_epochs]\n",
        "    vals = [initial_learning_rate * decay for decay in decay_rates]\n",
        "\n",
        "    def learning_rate_fn(itr):\n",
        "        lt = [itr < b for b in boundaries] + [True]\n",
        "        i = np.argmax(lt)\n",
        "        return vals[i]\n",
        "\n",
        "    return learning_rate_fn\n"
      ]
    },
    {
      "cell_type": "code",
      "execution_count": 24,
      "id": "dcd89a60",
      "metadata": {
        "id": "dcd89a60"
      },
      "outputs": [],
      "source": [
        "def one_hot(x, K):\n",
        "    return np.array(x[:, None] == np.arange(K)[None, :], dtype=int)"
      ]
    },
    {
      "cell_type": "code",
      "execution_count": 25,
      "id": "91db7abe",
      "metadata": {
        "id": "91db7abe"
      },
      "outputs": [],
      "source": [
        "def accuracy(model, dataset_loader):\n",
        "    total_correct = 0\n",
        "    for x, y in dataset_loader:\n",
        "        x = x.to(device)\n",
        "        y = one_hot(np.array(y.numpy()), 10)\n",
        "\n",
        "        target_class = np.argmax(y, axis=1)\n",
        "        predicted_class = np.argmax(model(x).cpu().detach().numpy(), axis=1)\n",
        "        total_correct += np.sum(predicted_class == target_class)\n",
        "    return total_correct / len(dataset_loader.dataset)"
      ]
    },
    {
      "cell_type": "code",
      "execution_count": 26,
      "id": "f40360cc",
      "metadata": {
        "id": "f40360cc"
      },
      "outputs": [],
      "source": [
        "def count_parameters(model):\n",
        "    return sum(p.numel() for p in model.parameters() if p.requires_grad)"
      ]
    },
    {
      "cell_type": "code",
      "execution_count": 27,
      "id": "1f900a9c",
      "metadata": {
        "id": "1f900a9c"
      },
      "outputs": [],
      "source": [
        "is_odenet = network == 'odenet'\n",
        "\n",
        "if downsampling_method == 'conv':\n",
        "    downsampling_layers = [\n",
        "            nn.Conv2d(1, 64, 3, 1),\n",
        "            norm(64),\n",
        "            nn.ReLU(inplace=True),\n",
        "            nn.Conv2d(64, 64, 4, 2, 1),\n",
        "            norm(64),\n",
        "            nn.ReLU(inplace=True),\n",
        "            nn.Conv2d(64, 64, 4, 2, 1),]\n",
        "elif downsampling_method == 'res':\n",
        "        downsampling_layers = [\n",
        "            nn.Conv2d(1, 64, 3, 1),\n",
        "            ResBlock(64, 64, stride=2, downsample=conv1x1(64, 64, 2)),\n",
        "            ResBlock(64, 64, stride=2, downsample=conv1x1(64, 64, 2)),\n",
        "        ]\n",
        "\n",
        "feature_layers = [ODEBlock(ODEfunc(64))] if is_odenet else [ResBlock(64, 64) for _ in range(block)]\n",
        "fc_layers = [norm(64), nn.ReLU(inplace=True), nn.AdaptiveAvgPool2d((1, 1)), Flatten(), nn.Linear(64, 10)]\n",
        "\n",
        "model = nn.Sequential(*downsampling_layers, *feature_layers, *fc_layers).to(device)\n"
      ]
    },
    {
      "cell_type": "code",
      "source": [
        "#torch.save(model, 'model_resnet.pth')"
      ],
      "metadata": {
        "id": "d7vHnD8AleMz"
      },
      "id": "d7vHnD8AleMz",
      "execution_count": null,
      "outputs": []
    },
    {
      "cell_type": "code",
      "source": [
        "print(model)"
      ],
      "metadata": {
        "colab": {
          "base_uri": "https://localhost:8080/"
        },
        "id": "jtupcaw2LqS_",
        "outputId": "e6fa9bc3-0047-41e4-8fbe-2a81f1c985bd"
      },
      "id": "jtupcaw2LqS_",
      "execution_count": 28,
      "outputs": [
        {
          "output_type": "stream",
          "name": "stdout",
          "text": [
            "Sequential(\n",
            "  (0): Conv2d(1, 64, kernel_size=(3, 3), stride=(1, 1))\n",
            "  (1): GroupNorm(32, 64, eps=1e-05, affine=True)\n",
            "  (2): ReLU(inplace=True)\n",
            "  (3): Conv2d(64, 64, kernel_size=(4, 4), stride=(2, 2), padding=(1, 1))\n",
            "  (4): GroupNorm(32, 64, eps=1e-05, affine=True)\n",
            "  (5): ReLU(inplace=True)\n",
            "  (6): Conv2d(64, 64, kernel_size=(4, 4), stride=(2, 2), padding=(1, 1))\n",
            "  (7): ResBlock(\n",
            "    (norm1): GroupNorm(32, 64, eps=1e-05, affine=True)\n",
            "    (relu): ReLU(inplace=True)\n",
            "    (conv1): Conv2d(64, 64, kernel_size=(3, 3), stride=(1, 1), padding=(1, 1), bias=False)\n",
            "    (norm2): GroupNorm(32, 64, eps=1e-05, affine=True)\n",
            "    (conv2): Conv2d(64, 64, kernel_size=(3, 3), stride=(1, 1), padding=(1, 1), bias=False)\n",
            "  )\n",
            "  (8): ResBlock(\n",
            "    (norm1): GroupNorm(32, 64, eps=1e-05, affine=True)\n",
            "    (relu): ReLU(inplace=True)\n",
            "    (conv1): Conv2d(64, 64, kernel_size=(3, 3), stride=(1, 1), padding=(1, 1), bias=False)\n",
            "    (norm2): GroupNorm(32, 64, eps=1e-05, affine=True)\n",
            "    (conv2): Conv2d(64, 64, kernel_size=(3, 3), stride=(1, 1), padding=(1, 1), bias=False)\n",
            "  )\n",
            "  (9): ResBlock(\n",
            "    (norm1): GroupNorm(32, 64, eps=1e-05, affine=True)\n",
            "    (relu): ReLU(inplace=True)\n",
            "    (conv1): Conv2d(64, 64, kernel_size=(3, 3), stride=(1, 1), padding=(1, 1), bias=False)\n",
            "    (norm2): GroupNorm(32, 64, eps=1e-05, affine=True)\n",
            "    (conv2): Conv2d(64, 64, kernel_size=(3, 3), stride=(1, 1), padding=(1, 1), bias=False)\n",
            "  )\n",
            "  (10): ResBlock(\n",
            "    (norm1): GroupNorm(32, 64, eps=1e-05, affine=True)\n",
            "    (relu): ReLU(inplace=True)\n",
            "    (conv1): Conv2d(64, 64, kernel_size=(3, 3), stride=(1, 1), padding=(1, 1), bias=False)\n",
            "    (norm2): GroupNorm(32, 64, eps=1e-05, affine=True)\n",
            "    (conv2): Conv2d(64, 64, kernel_size=(3, 3), stride=(1, 1), padding=(1, 1), bias=False)\n",
            "  )\n",
            "  (11): ResBlock(\n",
            "    (norm1): GroupNorm(32, 64, eps=1e-05, affine=True)\n",
            "    (relu): ReLU(inplace=True)\n",
            "    (conv1): Conv2d(64, 64, kernel_size=(3, 3), stride=(1, 1), padding=(1, 1), bias=False)\n",
            "    (norm2): GroupNorm(32, 64, eps=1e-05, affine=True)\n",
            "    (conv2): Conv2d(64, 64, kernel_size=(3, 3), stride=(1, 1), padding=(1, 1), bias=False)\n",
            "  )\n",
            "  (12): ResBlock(\n",
            "    (norm1): GroupNorm(32, 64, eps=1e-05, affine=True)\n",
            "    (relu): ReLU(inplace=True)\n",
            "    (conv1): Conv2d(64, 64, kernel_size=(3, 3), stride=(1, 1), padding=(1, 1), bias=False)\n",
            "    (norm2): GroupNorm(32, 64, eps=1e-05, affine=True)\n",
            "    (conv2): Conv2d(64, 64, kernel_size=(3, 3), stride=(1, 1), padding=(1, 1), bias=False)\n",
            "  )\n",
            "  (13): GroupNorm(32, 64, eps=1e-05, affine=True)\n",
            "  (14): ReLU(inplace=True)\n",
            "  (15): AdaptiveAvgPool2d(output_size=(1, 1))\n",
            "  (16): Flatten()\n",
            "  (17): Linear(in_features=64, out_features=10, bias=True)\n",
            ")\n"
          ]
        }
      ]
    },
    {
      "cell_type": "code",
      "source": [
        "summary(model)"
      ],
      "metadata": {
        "colab": {
          "base_uri": "https://localhost:8080/"
        },
        "id": "VHX9VjgbRbC4",
        "outputId": "9a947432-841b-4cf7-ee0b-986857531496"
      },
      "id": "VHX9VjgbRbC4",
      "execution_count": 29,
      "outputs": [
        {
          "output_type": "execute_result",
          "data": {
            "text/plain": [
              "=================================================================\n",
              "Layer (type:depth-idx)                   Param #\n",
              "=================================================================\n",
              "Sequential                               --\n",
              "├─Conv2d: 1-1                            640\n",
              "├─GroupNorm: 1-2                         128\n",
              "├─ReLU: 1-3                              --\n",
              "├─Conv2d: 1-4                            65,600\n",
              "├─GroupNorm: 1-5                         128\n",
              "├─ReLU: 1-6                              --\n",
              "├─Conv2d: 1-7                            65,600\n",
              "├─ResBlock: 1-8                          --\n",
              "│    └─GroupNorm: 2-1                    128\n",
              "│    └─ReLU: 2-2                         --\n",
              "│    └─Conv2d: 2-3                       36,864\n",
              "│    └─GroupNorm: 2-4                    128\n",
              "│    └─Conv2d: 2-5                       36,864\n",
              "├─ResBlock: 1-9                          --\n",
              "│    └─GroupNorm: 2-6                    128\n",
              "│    └─ReLU: 2-7                         --\n",
              "│    └─Conv2d: 2-8                       36,864\n",
              "│    └─GroupNorm: 2-9                    128\n",
              "│    └─Conv2d: 2-10                      36,864\n",
              "├─ResBlock: 1-10                         --\n",
              "│    └─GroupNorm: 2-11                   128\n",
              "│    └─ReLU: 2-12                        --\n",
              "│    └─Conv2d: 2-13                      36,864\n",
              "│    └─GroupNorm: 2-14                   128\n",
              "│    └─Conv2d: 2-15                      36,864\n",
              "├─ResBlock: 1-11                         --\n",
              "│    └─GroupNorm: 2-16                   128\n",
              "│    └─ReLU: 2-17                        --\n",
              "│    └─Conv2d: 2-18                      36,864\n",
              "│    └─GroupNorm: 2-19                   128\n",
              "│    └─Conv2d: 2-20                      36,864\n",
              "├─ResBlock: 1-12                         --\n",
              "│    └─GroupNorm: 2-21                   128\n",
              "│    └─ReLU: 2-22                        --\n",
              "│    └─Conv2d: 2-23                      36,864\n",
              "│    └─GroupNorm: 2-24                   128\n",
              "│    └─Conv2d: 2-25                      36,864\n",
              "├─ResBlock: 1-13                         --\n",
              "│    └─GroupNorm: 2-26                   128\n",
              "│    └─ReLU: 2-27                        --\n",
              "│    └─Conv2d: 2-28                      36,864\n",
              "│    └─GroupNorm: 2-29                   128\n",
              "│    └─Conv2d: 2-30                      36,864\n",
              "├─GroupNorm: 1-14                        128\n",
              "├─ReLU: 1-15                             --\n",
              "├─AdaptiveAvgPool2d: 1-16                --\n",
              "├─Flatten: 1-17                          --\n",
              "├─Linear: 1-18                           650\n",
              "=================================================================\n",
              "Total params: 576,778\n",
              "Trainable params: 576,778\n",
              "Non-trainable params: 0\n",
              "================================================================="
            ]
          },
          "metadata": {},
          "execution_count": 29
        }
      ]
    },
    {
      "cell_type": "code",
      "source": [
        "ad=summary(model)\n",
        "#summary(model)"
      ],
      "metadata": {
        "id": "RyynwarzMQiW"
      },
      "id": "RyynwarzMQiW",
      "execution_count": 30,
      "outputs": []
    },
    {
      "cell_type": "code",
      "source": [
        "\n",
        "config = {\"network\": network, \"adjoint\": adjoint,\"Model params\":ad.total_params ,\"tolerance\":tol,'blocks': block}\n",
        "wandb.init(project=\"ODE_ResNet\", config=config,tags=[\"new\"])\n"
      ],
      "metadata": {
        "colab": {
          "base_uri": "https://localhost:8080/",
          "height": 109
        },
        "id": "MzNG_aI1PdPH",
        "outputId": "6f308eb3-bfba-4c52-afab-90eb54766064"
      },
      "id": "MzNG_aI1PdPH",
      "execution_count": 31,
      "outputs": [
        {
          "output_type": "stream",
          "name": "stderr",
          "text": [
            "\u001b[34m\u001b[1mwandb\u001b[0m: Currently logged in as: \u001b[33msojohan\u001b[0m. Use \u001b[1m`wandb login --relogin`\u001b[0m to force relogin\n"
          ]
        },
        {
          "output_type": "display_data",
          "data": {
            "text/plain": [
              "<IPython.core.display.HTML object>"
            ],
            "text/html": [
              "Tracking run with wandb version 0.13.7"
            ]
          },
          "metadata": {}
        },
        {
          "output_type": "display_data",
          "data": {
            "text/plain": [
              "<IPython.core.display.HTML object>"
            ],
            "text/html": [
              "Run data is saved locally in <code>/content/wandb/run-20230104_065443-38tnk0wv</code>"
            ]
          },
          "metadata": {}
        },
        {
          "output_type": "display_data",
          "data": {
            "text/plain": [
              "<IPython.core.display.HTML object>"
            ],
            "text/html": [
              "Syncing run <strong><a href=\"https://wandb.ai/sojohan/ODE_ResNet/runs/38tnk0wv\" target=\"_blank\">amber-tree-165</a></strong> to <a href=\"https://wandb.ai/sojohan/ODE_ResNet\" target=\"_blank\">Weights & Biases</a> (<a href=\"https://wandb.me/run\" target=\"_blank\">docs</a>)<br/>"
            ]
          },
          "metadata": {}
        },
        {
          "output_type": "execute_result",
          "data": {
            "text/html": [
              "<button onClick=\"this.nextSibling.style.display='block';this.style.display='none';\">Display W&B run</button><iframe src=\"https://wandb.ai/sojohan/ODE_ResNet/runs/38tnk0wv?jupyter=true\" style=\"border:none;width:100%;height:420px;display:none;\"></iframe>"
            ],
            "text/plain": [
              "<wandb.sdk.wandb_run.Run at 0x7feb6ec908e0>"
            ]
          },
          "metadata": {},
          "execution_count": 31
        }
      ]
    },
    {
      "cell_type": "code",
      "execution_count": 32,
      "id": "33ab6183",
      "metadata": {
        "id": "33ab6183"
      },
      "outputs": [],
      "source": [
        "optimizer = torch.optim.SGD(model.parameters(), lr=lr, momentum=0.9) \n",
        "criterion = nn.CrossEntropyLoss().to(device)"
      ]
    },
    {
      "cell_type": "code",
      "execution_count": 33,
      "id": "e84365c2",
      "metadata": {
        "id": "e84365c2",
        "colab": {
          "base_uri": "https://localhost:8080/",
          "height": 431,
          "referenced_widgets": [
            "29623ed787af41ffbe8c386aadead5b3",
            "e575d2c7435048cea1df9bd98e81fdd1",
            "d54ee826628b4d90af156ccafe77153a",
            "6ff9622b8a4a4211bc3fcf2c1f3f2e83",
            "7e3fd398bf8c49ac9375489711d21e8b",
            "2fa1f06961e1428a8451f5bba4de4590",
            "b1332b60bbad48cb90e56a4c356c44bd",
            "c7f789d4e6e042e2b3a365d587424ae4",
            "1ee21a070b15486a84c78e225d872a66",
            "b426be25c22b4445bd9873706c029edb",
            "3d42d7e7febf4bd8ae5c332e0b06bd5e",
            "06875d68c7ed441b95ed109477001b43",
            "44b3f1c5d6a049bea81bc29885fdd8fa",
            "07cac10877a9444c89689efaa54b5e9e",
            "3375081c165e4c41885716240f480438",
            "1f645dc13371473d8b627bb1e64b9901",
            "ce17692bcb5042ccbc8a5b1874280670",
            "51f13c895db74e87877dc74b5c7a31fb",
            "d035a045a8fc4f5da3a695e6c93aa425",
            "3d822fb907954bb48e555d0e2bf932bf",
            "509bfdabccfb43ef8bea960411965344",
            "4b878df6048245caac5bd37cf528a21d",
            "74dc396acf314d8f9290e87652e56b97",
            "ae7c63751d464d08adfd20cd925814d2",
            "082137c1f8f94ce2baa2ebcad7bd5246",
            "066313346fe347efb1e170467058d1cd",
            "1f6e6c70884a4fd490bbb0f656004128",
            "83a0f637742945c8b561419e069bc09a",
            "bf5440fa9c9b4be5aa885ab2cf2a0775",
            "53c9c71305844ca8a92096eecdff06c6",
            "f4de00c9048b418eaf9bf5b99aac893e",
            "209052d3ceb14c39a324798180c6512e",
            "1958e1c83e934864bd29af384303de37",
            "bdf3c422751742d7b851cda51e337094",
            "13f522f501b64112b4579119ee6248f2",
            "760047c2ab9f4fb69e73bf8f4d2871c1",
            "a084032b0c314bd887247875e099fec6",
            "2989df98a65a4870a427253319994069",
            "da4e7123279b4ae9be01d1105fe2b740",
            "27afeecdbbf1402194fe43350dc507d0",
            "ab9775c655ad4c35954ac8d4931400e0",
            "31bc18533be943a68c563af0e8e994af",
            "e3db833e65714c3e922653f3fe1d743c",
            "202866337eb942c5ae0fbab56f9f748c"
          ]
        },
        "outputId": "4032af37-8145-41db-cb76-509574eea4bf"
      },
      "outputs": [
        {
          "output_type": "stream",
          "name": "stdout",
          "text": [
            "Downloading http://yann.lecun.com/exdb/mnist/train-images-idx3-ubyte.gz\n",
            "Downloading http://yann.lecun.com/exdb/mnist/train-images-idx3-ubyte.gz to .data/mnist/MNIST/raw/train-images-idx3-ubyte.gz\n"
          ]
        },
        {
          "output_type": "display_data",
          "data": {
            "text/plain": [
              "  0%|          | 0/9912422 [00:00<?, ?it/s]"
            ],
            "application/vnd.jupyter.widget-view+json": {
              "version_major": 2,
              "version_minor": 0,
              "model_id": "29623ed787af41ffbe8c386aadead5b3"
            }
          },
          "metadata": {}
        },
        {
          "output_type": "stream",
          "name": "stdout",
          "text": [
            "Extracting .data/mnist/MNIST/raw/train-images-idx3-ubyte.gz to .data/mnist/MNIST/raw\n",
            "\n",
            "Downloading http://yann.lecun.com/exdb/mnist/train-labels-idx1-ubyte.gz\n",
            "Downloading http://yann.lecun.com/exdb/mnist/train-labels-idx1-ubyte.gz to .data/mnist/MNIST/raw/train-labels-idx1-ubyte.gz\n"
          ]
        },
        {
          "output_type": "display_data",
          "data": {
            "text/plain": [
              "  0%|          | 0/28881 [00:00<?, ?it/s]"
            ],
            "application/vnd.jupyter.widget-view+json": {
              "version_major": 2,
              "version_minor": 0,
              "model_id": "06875d68c7ed441b95ed109477001b43"
            }
          },
          "metadata": {}
        },
        {
          "output_type": "stream",
          "name": "stdout",
          "text": [
            "Extracting .data/mnist/MNIST/raw/train-labels-idx1-ubyte.gz to .data/mnist/MNIST/raw\n",
            "\n",
            "Downloading http://yann.lecun.com/exdb/mnist/t10k-images-idx3-ubyte.gz\n",
            "Downloading http://yann.lecun.com/exdb/mnist/t10k-images-idx3-ubyte.gz to .data/mnist/MNIST/raw/t10k-images-idx3-ubyte.gz\n"
          ]
        },
        {
          "output_type": "display_data",
          "data": {
            "text/plain": [
              "  0%|          | 0/1648877 [00:00<?, ?it/s]"
            ],
            "application/vnd.jupyter.widget-view+json": {
              "version_major": 2,
              "version_minor": 0,
              "model_id": "74dc396acf314d8f9290e87652e56b97"
            }
          },
          "metadata": {}
        },
        {
          "output_type": "stream",
          "name": "stdout",
          "text": [
            "Extracting .data/mnist/MNIST/raw/t10k-images-idx3-ubyte.gz to .data/mnist/MNIST/raw\n",
            "\n",
            "Downloading http://yann.lecun.com/exdb/mnist/t10k-labels-idx1-ubyte.gz\n",
            "Downloading http://yann.lecun.com/exdb/mnist/t10k-labels-idx1-ubyte.gz to .data/mnist/MNIST/raw/t10k-labels-idx1-ubyte.gz\n"
          ]
        },
        {
          "output_type": "display_data",
          "data": {
            "text/plain": [
              "  0%|          | 0/4542 [00:00<?, ?it/s]"
            ],
            "application/vnd.jupyter.widget-view+json": {
              "version_major": 2,
              "version_minor": 0,
              "model_id": "bdf3c422751742d7b851cda51e337094"
            }
          },
          "metadata": {}
        },
        {
          "output_type": "stream",
          "name": "stdout",
          "text": [
            "Extracting .data/mnist/MNIST/raw/t10k-labels-idx1-ubyte.gz to .data/mnist/MNIST/raw\n",
            "\n"
          ]
        }
      ],
      "source": [
        "train_loader, test_loader, train_eval_loader = get_mnist_loaders(data_aug, batch_size, test_batch_size)"
      ]
    },
    {
      "cell_type": "code",
      "execution_count": 34,
      "id": "92cef26f",
      "metadata": {
        "id": "92cef26f"
      },
      "outputs": [],
      "source": [
        "data_gen = inf_generator(train_loader)\n",
        "batches_per_epoch = len(train_loader)"
      ]
    },
    {
      "cell_type": "code",
      "execution_count": 35,
      "id": "4a08a236",
      "metadata": {
        "id": "4a08a236"
      },
      "outputs": [],
      "source": [
        " lr_fn = learning_rate_with_decay(batch_size, batch_denom=128, batches_per_epoch=batches_per_epoch, boundary_epochs=[60, 100, 140],\n",
        "        decay_rates=[1, 0.1, 0.01, 0.001]\n",
        "    )"
      ]
    },
    {
      "cell_type": "code",
      "execution_count": 36,
      "id": "7e496ecb",
      "metadata": {
        "id": "7e496ecb"
      },
      "outputs": [],
      "source": [
        "best_acc = 0\n",
        "batch_time_meter = RunningAverageMeter()\n",
        "f_nfe_meter = RunningAverageMeter()\n",
        "b_nfe_meter = RunningAverageMeter()\n",
        "end = time.time()"
      ]
    },
    {
      "cell_type": "code",
      "execution_count": 37,
      "id": "1052ce5e",
      "metadata": {
        "colab": {
          "base_uri": "https://localhost:8080/"
        },
        "id": "1052ce5e",
        "outputId": "bc265615-a823-459b-bf4e-f4074380606a"
      },
      "outputs": [
        {
          "output_type": "stream",
          "name": "stdout",
          "text": [
            "nepochs 10\n",
            "batches_per_epoch 60\n",
            "Epoch 0000 | Time 20.059 (20.059) | NFE-F 0.0 | NFE-B 0.0 | Train Acc 0.1044 | Test Acc 0.1028\n",
            "Epoch 0001 | Time 0.429 (11.079) | NFE-F 0.0 | NFE-B 0.0 | Train Acc 0.4213 | Test Acc 0.4205\n",
            "Epoch 0002 | Time 0.485 (6.173) | NFE-F 0.0 | NFE-B 0.0 | Train Acc 0.4029 | Test Acc 0.4094\n",
            "Epoch 0003 | Time 0.482 (3.485) | NFE-F 0.0 | NFE-B 0.0 | Train Acc 0.9393 | Test Acc 0.9423\n",
            "Epoch 0004 | Time 0.472 (2.016) | NFE-F 0.0 | NFE-B 0.0 | Train Acc 0.8957 | Test Acc 0.9027\n",
            "Epoch 0005 | Time 0.464 (1.215) | NFE-F 0.0 | NFE-B 0.0 | Train Acc 0.9569 | Test Acc 0.9601\n",
            "Epoch 0006 | Time 0.463 (0.776) | NFE-F 0.0 | NFE-B 0.0 | Train Acc 0.9762 | Test Acc 0.9768\n",
            "Epoch 0007 | Time 0.497 (0.535) | NFE-F 0.0 | NFE-B 0.0 | Train Acc 0.9832 | Test Acc 0.9839\n",
            "Epoch 0008 | Time 0.476 (0.403) | NFE-F 0.0 | NFE-B 0.0 | Train Acc 0.9849 | Test Acc 0.9843\n",
            "Epoch 0009 | Time 0.486 (0.330) | NFE-F 0.0 | NFE-B 0.0 | Train Acc 0.9879 | Test Acc 0.9881\n"
          ]
        }
      ],
      "source": [
        "print('nepochs',nepochs)\n",
        "print('batches_per_epoch',batches_per_epoch)\n",
        "#print('len test_loader', len(test_loader))\n",
        "wandb.watch(model)\n",
        "#print(nepochs * batches_per_epoch)\n",
        "\n",
        "#for itr in range(nepochs * batches_per_epoch):\n",
        "timecount=0.0\n",
        "for itr in range(nepochs*batches_per_epoch):\n",
        "    for param_group in optimizer.param_groups:\n",
        "        param_group['lr'] = lr_fn(itr)\n",
        "\n",
        "    optimizer.zero_grad()\n",
        "    x, y = data_gen.__next__()\n",
        "    #print(x.shape)\n",
        "    x = x.to(device)\n",
        "    y = y.to(device)\n",
        "    logits = model(x)\n",
        "    loss = criterion(logits, y)\n",
        "\n",
        "    if is_odenet:\n",
        "        nfe_forward = feature_layers[0].nfe\n",
        "        #print(nfe_forward)\n",
        "        feature_layers[0].nfe = 0\n",
        "\n",
        "    loss.backward()\n",
        "    optimizer.step()\n",
        "\n",
        "    if is_odenet:\n",
        "        nfe_backward = feature_layers[0].nfe\n",
        "        feature_layers[0].nfe = 0\n",
        "\n",
        "    batch_time_meter.update(time.time() - end)\n",
        "    if is_odenet:\n",
        "        f_nfe_meter.update(nfe_forward)\n",
        "        b_nfe_meter.update(nfe_backward)\n",
        "    end = time.time()\n",
        "\n",
        "    if itr % batches_per_epoch == 0:\n",
        "        with torch.no_grad():\n",
        "            train_acc = accuracy(model, train_eval_loader)\n",
        "            val_acc = accuracy(model, test_loader)\n",
        "            if val_acc > best_acc:\n",
        "              best_acc = val_acc\n",
        "            timecount=timecount+batch_time_meter.val\n",
        "            #print(timecount)\n",
        "            wandb.log({\"loss\": loss, \"Train Accuraccy\": train_acc, \"Validation Accuracy\": val_acc,\"NFE-F\": f_nfe_meter.avg, \"NFE-B\" :  b_nfe_meter.avg,\"TotalTime\":timecount } )\n",
        "            print(\"Epoch {:04d} | Time {:.3f} ({:.3f}) | NFE-F {:.1f} | NFE-B {:.1f} | Train Acc {:.4f} | Test Acc {:.4f}\".format(\n",
        "                        itr // batches_per_epoch, batch_time_meter.val, batch_time_meter.avg, f_nfe_meter.avg,\n",
        "                        b_nfe_meter.avg, train_acc, val_acc\n",
        "                    )\n",
        "                )"
      ]
    },
    {
      "cell_type": "code",
      "execution_count": null,
      "id": "90c2320b",
      "metadata": {
        "id": "90c2320b"
      },
      "outputs": [],
      "source": []
    }
  ],
  "metadata": {
    "kernelspec": {
      "display_name": "Python 3 (ipykernel)",
      "language": "python",
      "name": "python3"
    },
    "language_info": {
      "codemirror_mode": {
        "name": "ipython",
        "version": 3
      },
      "file_extension": ".py",
      "mimetype": "text/x-python",
      "name": "python",
      "nbconvert_exporter": "python",
      "pygments_lexer": "ipython3",
      "version": "3.8.13"
    },
    "colab": {
      "provenance": []
    },
    "accelerator": "GPU",
    "gpuClass": "standard",
    "widgets": {
      "application/vnd.jupyter.widget-state+json": {
        "29623ed787af41ffbe8c386aadead5b3": {
          "model_module": "@jupyter-widgets/controls",
          "model_name": "HBoxModel",
          "model_module_version": "1.5.0",
          "state": {
            "_dom_classes": [],
            "_model_module": "@jupyter-widgets/controls",
            "_model_module_version": "1.5.0",
            "_model_name": "HBoxModel",
            "_view_count": null,
            "_view_module": "@jupyter-widgets/controls",
            "_view_module_version": "1.5.0",
            "_view_name": "HBoxView",
            "box_style": "",
            "children": [
              "IPY_MODEL_e575d2c7435048cea1df9bd98e81fdd1",
              "IPY_MODEL_d54ee826628b4d90af156ccafe77153a",
              "IPY_MODEL_6ff9622b8a4a4211bc3fcf2c1f3f2e83"
            ],
            "layout": "IPY_MODEL_7e3fd398bf8c49ac9375489711d21e8b"
          }
        },
        "e575d2c7435048cea1df9bd98e81fdd1": {
          "model_module": "@jupyter-widgets/controls",
          "model_name": "HTMLModel",
          "model_module_version": "1.5.0",
          "state": {
            "_dom_classes": [],
            "_model_module": "@jupyter-widgets/controls",
            "_model_module_version": "1.5.0",
            "_model_name": "HTMLModel",
            "_view_count": null,
            "_view_module": "@jupyter-widgets/controls",
            "_view_module_version": "1.5.0",
            "_view_name": "HTMLView",
            "description": "",
            "description_tooltip": null,
            "layout": "IPY_MODEL_2fa1f06961e1428a8451f5bba4de4590",
            "placeholder": "​",
            "style": "IPY_MODEL_b1332b60bbad48cb90e56a4c356c44bd",
            "value": "100%"
          }
        },
        "d54ee826628b4d90af156ccafe77153a": {
          "model_module": "@jupyter-widgets/controls",
          "model_name": "FloatProgressModel",
          "model_module_version": "1.5.0",
          "state": {
            "_dom_classes": [],
            "_model_module": "@jupyter-widgets/controls",
            "_model_module_version": "1.5.0",
            "_model_name": "FloatProgressModel",
            "_view_count": null,
            "_view_module": "@jupyter-widgets/controls",
            "_view_module_version": "1.5.0",
            "_view_name": "ProgressView",
            "bar_style": "success",
            "description": "",
            "description_tooltip": null,
            "layout": "IPY_MODEL_c7f789d4e6e042e2b3a365d587424ae4",
            "max": 9912422,
            "min": 0,
            "orientation": "horizontal",
            "style": "IPY_MODEL_1ee21a070b15486a84c78e225d872a66",
            "value": 9912422
          }
        },
        "6ff9622b8a4a4211bc3fcf2c1f3f2e83": {
          "model_module": "@jupyter-widgets/controls",
          "model_name": "HTMLModel",
          "model_module_version": "1.5.0",
          "state": {
            "_dom_classes": [],
            "_model_module": "@jupyter-widgets/controls",
            "_model_module_version": "1.5.0",
            "_model_name": "HTMLModel",
            "_view_count": null,
            "_view_module": "@jupyter-widgets/controls",
            "_view_module_version": "1.5.0",
            "_view_name": "HTMLView",
            "description": "",
            "description_tooltip": null,
            "layout": "IPY_MODEL_b426be25c22b4445bd9873706c029edb",
            "placeholder": "​",
            "style": "IPY_MODEL_3d42d7e7febf4bd8ae5c332e0b06bd5e",
            "value": " 9912422/9912422 [00:00&lt;00:00, 123207370.81it/s]"
          }
        },
        "7e3fd398bf8c49ac9375489711d21e8b": {
          "model_module": "@jupyter-widgets/base",
          "model_name": "LayoutModel",
          "model_module_version": "1.2.0",
          "state": {
            "_model_module": "@jupyter-widgets/base",
            "_model_module_version": "1.2.0",
            "_model_name": "LayoutModel",
            "_view_count": null,
            "_view_module": "@jupyter-widgets/base",
            "_view_module_version": "1.2.0",
            "_view_name": "LayoutView",
            "align_content": null,
            "align_items": null,
            "align_self": null,
            "border": null,
            "bottom": null,
            "display": null,
            "flex": null,
            "flex_flow": null,
            "grid_area": null,
            "grid_auto_columns": null,
            "grid_auto_flow": null,
            "grid_auto_rows": null,
            "grid_column": null,
            "grid_gap": null,
            "grid_row": null,
            "grid_template_areas": null,
            "grid_template_columns": null,
            "grid_template_rows": null,
            "height": null,
            "justify_content": null,
            "justify_items": null,
            "left": null,
            "margin": null,
            "max_height": null,
            "max_width": null,
            "min_height": null,
            "min_width": null,
            "object_fit": null,
            "object_position": null,
            "order": null,
            "overflow": null,
            "overflow_x": null,
            "overflow_y": null,
            "padding": null,
            "right": null,
            "top": null,
            "visibility": null,
            "width": null
          }
        },
        "2fa1f06961e1428a8451f5bba4de4590": {
          "model_module": "@jupyter-widgets/base",
          "model_name": "LayoutModel",
          "model_module_version": "1.2.0",
          "state": {
            "_model_module": "@jupyter-widgets/base",
            "_model_module_version": "1.2.0",
            "_model_name": "LayoutModel",
            "_view_count": null,
            "_view_module": "@jupyter-widgets/base",
            "_view_module_version": "1.2.0",
            "_view_name": "LayoutView",
            "align_content": null,
            "align_items": null,
            "align_self": null,
            "border": null,
            "bottom": null,
            "display": null,
            "flex": null,
            "flex_flow": null,
            "grid_area": null,
            "grid_auto_columns": null,
            "grid_auto_flow": null,
            "grid_auto_rows": null,
            "grid_column": null,
            "grid_gap": null,
            "grid_row": null,
            "grid_template_areas": null,
            "grid_template_columns": null,
            "grid_template_rows": null,
            "height": null,
            "justify_content": null,
            "justify_items": null,
            "left": null,
            "margin": null,
            "max_height": null,
            "max_width": null,
            "min_height": null,
            "min_width": null,
            "object_fit": null,
            "object_position": null,
            "order": null,
            "overflow": null,
            "overflow_x": null,
            "overflow_y": null,
            "padding": null,
            "right": null,
            "top": null,
            "visibility": null,
            "width": null
          }
        },
        "b1332b60bbad48cb90e56a4c356c44bd": {
          "model_module": "@jupyter-widgets/controls",
          "model_name": "DescriptionStyleModel",
          "model_module_version": "1.5.0",
          "state": {
            "_model_module": "@jupyter-widgets/controls",
            "_model_module_version": "1.5.0",
            "_model_name": "DescriptionStyleModel",
            "_view_count": null,
            "_view_module": "@jupyter-widgets/base",
            "_view_module_version": "1.2.0",
            "_view_name": "StyleView",
            "description_width": ""
          }
        },
        "c7f789d4e6e042e2b3a365d587424ae4": {
          "model_module": "@jupyter-widgets/base",
          "model_name": "LayoutModel",
          "model_module_version": "1.2.0",
          "state": {
            "_model_module": "@jupyter-widgets/base",
            "_model_module_version": "1.2.0",
            "_model_name": "LayoutModel",
            "_view_count": null,
            "_view_module": "@jupyter-widgets/base",
            "_view_module_version": "1.2.0",
            "_view_name": "LayoutView",
            "align_content": null,
            "align_items": null,
            "align_self": null,
            "border": null,
            "bottom": null,
            "display": null,
            "flex": null,
            "flex_flow": null,
            "grid_area": null,
            "grid_auto_columns": null,
            "grid_auto_flow": null,
            "grid_auto_rows": null,
            "grid_column": null,
            "grid_gap": null,
            "grid_row": null,
            "grid_template_areas": null,
            "grid_template_columns": null,
            "grid_template_rows": null,
            "height": null,
            "justify_content": null,
            "justify_items": null,
            "left": null,
            "margin": null,
            "max_height": null,
            "max_width": null,
            "min_height": null,
            "min_width": null,
            "object_fit": null,
            "object_position": null,
            "order": null,
            "overflow": null,
            "overflow_x": null,
            "overflow_y": null,
            "padding": null,
            "right": null,
            "top": null,
            "visibility": null,
            "width": null
          }
        },
        "1ee21a070b15486a84c78e225d872a66": {
          "model_module": "@jupyter-widgets/controls",
          "model_name": "ProgressStyleModel",
          "model_module_version": "1.5.0",
          "state": {
            "_model_module": "@jupyter-widgets/controls",
            "_model_module_version": "1.5.0",
            "_model_name": "ProgressStyleModel",
            "_view_count": null,
            "_view_module": "@jupyter-widgets/base",
            "_view_module_version": "1.2.0",
            "_view_name": "StyleView",
            "bar_color": null,
            "description_width": ""
          }
        },
        "b426be25c22b4445bd9873706c029edb": {
          "model_module": "@jupyter-widgets/base",
          "model_name": "LayoutModel",
          "model_module_version": "1.2.0",
          "state": {
            "_model_module": "@jupyter-widgets/base",
            "_model_module_version": "1.2.0",
            "_model_name": "LayoutModel",
            "_view_count": null,
            "_view_module": "@jupyter-widgets/base",
            "_view_module_version": "1.2.0",
            "_view_name": "LayoutView",
            "align_content": null,
            "align_items": null,
            "align_self": null,
            "border": null,
            "bottom": null,
            "display": null,
            "flex": null,
            "flex_flow": null,
            "grid_area": null,
            "grid_auto_columns": null,
            "grid_auto_flow": null,
            "grid_auto_rows": null,
            "grid_column": null,
            "grid_gap": null,
            "grid_row": null,
            "grid_template_areas": null,
            "grid_template_columns": null,
            "grid_template_rows": null,
            "height": null,
            "justify_content": null,
            "justify_items": null,
            "left": null,
            "margin": null,
            "max_height": null,
            "max_width": null,
            "min_height": null,
            "min_width": null,
            "object_fit": null,
            "object_position": null,
            "order": null,
            "overflow": null,
            "overflow_x": null,
            "overflow_y": null,
            "padding": null,
            "right": null,
            "top": null,
            "visibility": null,
            "width": null
          }
        },
        "3d42d7e7febf4bd8ae5c332e0b06bd5e": {
          "model_module": "@jupyter-widgets/controls",
          "model_name": "DescriptionStyleModel",
          "model_module_version": "1.5.0",
          "state": {
            "_model_module": "@jupyter-widgets/controls",
            "_model_module_version": "1.5.0",
            "_model_name": "DescriptionStyleModel",
            "_view_count": null,
            "_view_module": "@jupyter-widgets/base",
            "_view_module_version": "1.2.0",
            "_view_name": "StyleView",
            "description_width": ""
          }
        },
        "06875d68c7ed441b95ed109477001b43": {
          "model_module": "@jupyter-widgets/controls",
          "model_name": "HBoxModel",
          "model_module_version": "1.5.0",
          "state": {
            "_dom_classes": [],
            "_model_module": "@jupyter-widgets/controls",
            "_model_module_version": "1.5.0",
            "_model_name": "HBoxModel",
            "_view_count": null,
            "_view_module": "@jupyter-widgets/controls",
            "_view_module_version": "1.5.0",
            "_view_name": "HBoxView",
            "box_style": "",
            "children": [
              "IPY_MODEL_44b3f1c5d6a049bea81bc29885fdd8fa",
              "IPY_MODEL_07cac10877a9444c89689efaa54b5e9e",
              "IPY_MODEL_3375081c165e4c41885716240f480438"
            ],
            "layout": "IPY_MODEL_1f645dc13371473d8b627bb1e64b9901"
          }
        },
        "44b3f1c5d6a049bea81bc29885fdd8fa": {
          "model_module": "@jupyter-widgets/controls",
          "model_name": "HTMLModel",
          "model_module_version": "1.5.0",
          "state": {
            "_dom_classes": [],
            "_model_module": "@jupyter-widgets/controls",
            "_model_module_version": "1.5.0",
            "_model_name": "HTMLModel",
            "_view_count": null,
            "_view_module": "@jupyter-widgets/controls",
            "_view_module_version": "1.5.0",
            "_view_name": "HTMLView",
            "description": "",
            "description_tooltip": null,
            "layout": "IPY_MODEL_ce17692bcb5042ccbc8a5b1874280670",
            "placeholder": "​",
            "style": "IPY_MODEL_51f13c895db74e87877dc74b5c7a31fb",
            "value": "100%"
          }
        },
        "07cac10877a9444c89689efaa54b5e9e": {
          "model_module": "@jupyter-widgets/controls",
          "model_name": "FloatProgressModel",
          "model_module_version": "1.5.0",
          "state": {
            "_dom_classes": [],
            "_model_module": "@jupyter-widgets/controls",
            "_model_module_version": "1.5.0",
            "_model_name": "FloatProgressModel",
            "_view_count": null,
            "_view_module": "@jupyter-widgets/controls",
            "_view_module_version": "1.5.0",
            "_view_name": "ProgressView",
            "bar_style": "success",
            "description": "",
            "description_tooltip": null,
            "layout": "IPY_MODEL_d035a045a8fc4f5da3a695e6c93aa425",
            "max": 28881,
            "min": 0,
            "orientation": "horizontal",
            "style": "IPY_MODEL_3d822fb907954bb48e555d0e2bf932bf",
            "value": 28881
          }
        },
        "3375081c165e4c41885716240f480438": {
          "model_module": "@jupyter-widgets/controls",
          "model_name": "HTMLModel",
          "model_module_version": "1.5.0",
          "state": {
            "_dom_classes": [],
            "_model_module": "@jupyter-widgets/controls",
            "_model_module_version": "1.5.0",
            "_model_name": "HTMLModel",
            "_view_count": null,
            "_view_module": "@jupyter-widgets/controls",
            "_view_module_version": "1.5.0",
            "_view_name": "HTMLView",
            "description": "",
            "description_tooltip": null,
            "layout": "IPY_MODEL_509bfdabccfb43ef8bea960411965344",
            "placeholder": "​",
            "style": "IPY_MODEL_4b878df6048245caac5bd37cf528a21d",
            "value": " 28881/28881 [00:00&lt;00:00, 1096349.84it/s]"
          }
        },
        "1f645dc13371473d8b627bb1e64b9901": {
          "model_module": "@jupyter-widgets/base",
          "model_name": "LayoutModel",
          "model_module_version": "1.2.0",
          "state": {
            "_model_module": "@jupyter-widgets/base",
            "_model_module_version": "1.2.0",
            "_model_name": "LayoutModel",
            "_view_count": null,
            "_view_module": "@jupyter-widgets/base",
            "_view_module_version": "1.2.0",
            "_view_name": "LayoutView",
            "align_content": null,
            "align_items": null,
            "align_self": null,
            "border": null,
            "bottom": null,
            "display": null,
            "flex": null,
            "flex_flow": null,
            "grid_area": null,
            "grid_auto_columns": null,
            "grid_auto_flow": null,
            "grid_auto_rows": null,
            "grid_column": null,
            "grid_gap": null,
            "grid_row": null,
            "grid_template_areas": null,
            "grid_template_columns": null,
            "grid_template_rows": null,
            "height": null,
            "justify_content": null,
            "justify_items": null,
            "left": null,
            "margin": null,
            "max_height": null,
            "max_width": null,
            "min_height": null,
            "min_width": null,
            "object_fit": null,
            "object_position": null,
            "order": null,
            "overflow": null,
            "overflow_x": null,
            "overflow_y": null,
            "padding": null,
            "right": null,
            "top": null,
            "visibility": null,
            "width": null
          }
        },
        "ce17692bcb5042ccbc8a5b1874280670": {
          "model_module": "@jupyter-widgets/base",
          "model_name": "LayoutModel",
          "model_module_version": "1.2.0",
          "state": {
            "_model_module": "@jupyter-widgets/base",
            "_model_module_version": "1.2.0",
            "_model_name": "LayoutModel",
            "_view_count": null,
            "_view_module": "@jupyter-widgets/base",
            "_view_module_version": "1.2.0",
            "_view_name": "LayoutView",
            "align_content": null,
            "align_items": null,
            "align_self": null,
            "border": null,
            "bottom": null,
            "display": null,
            "flex": null,
            "flex_flow": null,
            "grid_area": null,
            "grid_auto_columns": null,
            "grid_auto_flow": null,
            "grid_auto_rows": null,
            "grid_column": null,
            "grid_gap": null,
            "grid_row": null,
            "grid_template_areas": null,
            "grid_template_columns": null,
            "grid_template_rows": null,
            "height": null,
            "justify_content": null,
            "justify_items": null,
            "left": null,
            "margin": null,
            "max_height": null,
            "max_width": null,
            "min_height": null,
            "min_width": null,
            "object_fit": null,
            "object_position": null,
            "order": null,
            "overflow": null,
            "overflow_x": null,
            "overflow_y": null,
            "padding": null,
            "right": null,
            "top": null,
            "visibility": null,
            "width": null
          }
        },
        "51f13c895db74e87877dc74b5c7a31fb": {
          "model_module": "@jupyter-widgets/controls",
          "model_name": "DescriptionStyleModel",
          "model_module_version": "1.5.0",
          "state": {
            "_model_module": "@jupyter-widgets/controls",
            "_model_module_version": "1.5.0",
            "_model_name": "DescriptionStyleModel",
            "_view_count": null,
            "_view_module": "@jupyter-widgets/base",
            "_view_module_version": "1.2.0",
            "_view_name": "StyleView",
            "description_width": ""
          }
        },
        "d035a045a8fc4f5da3a695e6c93aa425": {
          "model_module": "@jupyter-widgets/base",
          "model_name": "LayoutModel",
          "model_module_version": "1.2.0",
          "state": {
            "_model_module": "@jupyter-widgets/base",
            "_model_module_version": "1.2.0",
            "_model_name": "LayoutModel",
            "_view_count": null,
            "_view_module": "@jupyter-widgets/base",
            "_view_module_version": "1.2.0",
            "_view_name": "LayoutView",
            "align_content": null,
            "align_items": null,
            "align_self": null,
            "border": null,
            "bottom": null,
            "display": null,
            "flex": null,
            "flex_flow": null,
            "grid_area": null,
            "grid_auto_columns": null,
            "grid_auto_flow": null,
            "grid_auto_rows": null,
            "grid_column": null,
            "grid_gap": null,
            "grid_row": null,
            "grid_template_areas": null,
            "grid_template_columns": null,
            "grid_template_rows": null,
            "height": null,
            "justify_content": null,
            "justify_items": null,
            "left": null,
            "margin": null,
            "max_height": null,
            "max_width": null,
            "min_height": null,
            "min_width": null,
            "object_fit": null,
            "object_position": null,
            "order": null,
            "overflow": null,
            "overflow_x": null,
            "overflow_y": null,
            "padding": null,
            "right": null,
            "top": null,
            "visibility": null,
            "width": null
          }
        },
        "3d822fb907954bb48e555d0e2bf932bf": {
          "model_module": "@jupyter-widgets/controls",
          "model_name": "ProgressStyleModel",
          "model_module_version": "1.5.0",
          "state": {
            "_model_module": "@jupyter-widgets/controls",
            "_model_module_version": "1.5.0",
            "_model_name": "ProgressStyleModel",
            "_view_count": null,
            "_view_module": "@jupyter-widgets/base",
            "_view_module_version": "1.2.0",
            "_view_name": "StyleView",
            "bar_color": null,
            "description_width": ""
          }
        },
        "509bfdabccfb43ef8bea960411965344": {
          "model_module": "@jupyter-widgets/base",
          "model_name": "LayoutModel",
          "model_module_version": "1.2.0",
          "state": {
            "_model_module": "@jupyter-widgets/base",
            "_model_module_version": "1.2.0",
            "_model_name": "LayoutModel",
            "_view_count": null,
            "_view_module": "@jupyter-widgets/base",
            "_view_module_version": "1.2.0",
            "_view_name": "LayoutView",
            "align_content": null,
            "align_items": null,
            "align_self": null,
            "border": null,
            "bottom": null,
            "display": null,
            "flex": null,
            "flex_flow": null,
            "grid_area": null,
            "grid_auto_columns": null,
            "grid_auto_flow": null,
            "grid_auto_rows": null,
            "grid_column": null,
            "grid_gap": null,
            "grid_row": null,
            "grid_template_areas": null,
            "grid_template_columns": null,
            "grid_template_rows": null,
            "height": null,
            "justify_content": null,
            "justify_items": null,
            "left": null,
            "margin": null,
            "max_height": null,
            "max_width": null,
            "min_height": null,
            "min_width": null,
            "object_fit": null,
            "object_position": null,
            "order": null,
            "overflow": null,
            "overflow_x": null,
            "overflow_y": null,
            "padding": null,
            "right": null,
            "top": null,
            "visibility": null,
            "width": null
          }
        },
        "4b878df6048245caac5bd37cf528a21d": {
          "model_module": "@jupyter-widgets/controls",
          "model_name": "DescriptionStyleModel",
          "model_module_version": "1.5.0",
          "state": {
            "_model_module": "@jupyter-widgets/controls",
            "_model_module_version": "1.5.0",
            "_model_name": "DescriptionStyleModel",
            "_view_count": null,
            "_view_module": "@jupyter-widgets/base",
            "_view_module_version": "1.2.0",
            "_view_name": "StyleView",
            "description_width": ""
          }
        },
        "74dc396acf314d8f9290e87652e56b97": {
          "model_module": "@jupyter-widgets/controls",
          "model_name": "HBoxModel",
          "model_module_version": "1.5.0",
          "state": {
            "_dom_classes": [],
            "_model_module": "@jupyter-widgets/controls",
            "_model_module_version": "1.5.0",
            "_model_name": "HBoxModel",
            "_view_count": null,
            "_view_module": "@jupyter-widgets/controls",
            "_view_module_version": "1.5.0",
            "_view_name": "HBoxView",
            "box_style": "",
            "children": [
              "IPY_MODEL_ae7c63751d464d08adfd20cd925814d2",
              "IPY_MODEL_082137c1f8f94ce2baa2ebcad7bd5246",
              "IPY_MODEL_066313346fe347efb1e170467058d1cd"
            ],
            "layout": "IPY_MODEL_1f6e6c70884a4fd490bbb0f656004128"
          }
        },
        "ae7c63751d464d08adfd20cd925814d2": {
          "model_module": "@jupyter-widgets/controls",
          "model_name": "HTMLModel",
          "model_module_version": "1.5.0",
          "state": {
            "_dom_classes": [],
            "_model_module": "@jupyter-widgets/controls",
            "_model_module_version": "1.5.0",
            "_model_name": "HTMLModel",
            "_view_count": null,
            "_view_module": "@jupyter-widgets/controls",
            "_view_module_version": "1.5.0",
            "_view_name": "HTMLView",
            "description": "",
            "description_tooltip": null,
            "layout": "IPY_MODEL_83a0f637742945c8b561419e069bc09a",
            "placeholder": "​",
            "style": "IPY_MODEL_bf5440fa9c9b4be5aa885ab2cf2a0775",
            "value": "100%"
          }
        },
        "082137c1f8f94ce2baa2ebcad7bd5246": {
          "model_module": "@jupyter-widgets/controls",
          "model_name": "FloatProgressModel",
          "model_module_version": "1.5.0",
          "state": {
            "_dom_classes": [],
            "_model_module": "@jupyter-widgets/controls",
            "_model_module_version": "1.5.0",
            "_model_name": "FloatProgressModel",
            "_view_count": null,
            "_view_module": "@jupyter-widgets/controls",
            "_view_module_version": "1.5.0",
            "_view_name": "ProgressView",
            "bar_style": "success",
            "description": "",
            "description_tooltip": null,
            "layout": "IPY_MODEL_53c9c71305844ca8a92096eecdff06c6",
            "max": 1648877,
            "min": 0,
            "orientation": "horizontal",
            "style": "IPY_MODEL_f4de00c9048b418eaf9bf5b99aac893e",
            "value": 1648877
          }
        },
        "066313346fe347efb1e170467058d1cd": {
          "model_module": "@jupyter-widgets/controls",
          "model_name": "HTMLModel",
          "model_module_version": "1.5.0",
          "state": {
            "_dom_classes": [],
            "_model_module": "@jupyter-widgets/controls",
            "_model_module_version": "1.5.0",
            "_model_name": "HTMLModel",
            "_view_count": null,
            "_view_module": "@jupyter-widgets/controls",
            "_view_module_version": "1.5.0",
            "_view_name": "HTMLView",
            "description": "",
            "description_tooltip": null,
            "layout": "IPY_MODEL_209052d3ceb14c39a324798180c6512e",
            "placeholder": "​",
            "style": "IPY_MODEL_1958e1c83e934864bd29af384303de37",
            "value": " 1648877/1648877 [00:00&lt;00:00, 51518473.47it/s]"
          }
        },
        "1f6e6c70884a4fd490bbb0f656004128": {
          "model_module": "@jupyter-widgets/base",
          "model_name": "LayoutModel",
          "model_module_version": "1.2.0",
          "state": {
            "_model_module": "@jupyter-widgets/base",
            "_model_module_version": "1.2.0",
            "_model_name": "LayoutModel",
            "_view_count": null,
            "_view_module": "@jupyter-widgets/base",
            "_view_module_version": "1.2.0",
            "_view_name": "LayoutView",
            "align_content": null,
            "align_items": null,
            "align_self": null,
            "border": null,
            "bottom": null,
            "display": null,
            "flex": null,
            "flex_flow": null,
            "grid_area": null,
            "grid_auto_columns": null,
            "grid_auto_flow": null,
            "grid_auto_rows": null,
            "grid_column": null,
            "grid_gap": null,
            "grid_row": null,
            "grid_template_areas": null,
            "grid_template_columns": null,
            "grid_template_rows": null,
            "height": null,
            "justify_content": null,
            "justify_items": null,
            "left": null,
            "margin": null,
            "max_height": null,
            "max_width": null,
            "min_height": null,
            "min_width": null,
            "object_fit": null,
            "object_position": null,
            "order": null,
            "overflow": null,
            "overflow_x": null,
            "overflow_y": null,
            "padding": null,
            "right": null,
            "top": null,
            "visibility": null,
            "width": null
          }
        },
        "83a0f637742945c8b561419e069bc09a": {
          "model_module": "@jupyter-widgets/base",
          "model_name": "LayoutModel",
          "model_module_version": "1.2.0",
          "state": {
            "_model_module": "@jupyter-widgets/base",
            "_model_module_version": "1.2.0",
            "_model_name": "LayoutModel",
            "_view_count": null,
            "_view_module": "@jupyter-widgets/base",
            "_view_module_version": "1.2.0",
            "_view_name": "LayoutView",
            "align_content": null,
            "align_items": null,
            "align_self": null,
            "border": null,
            "bottom": null,
            "display": null,
            "flex": null,
            "flex_flow": null,
            "grid_area": null,
            "grid_auto_columns": null,
            "grid_auto_flow": null,
            "grid_auto_rows": null,
            "grid_column": null,
            "grid_gap": null,
            "grid_row": null,
            "grid_template_areas": null,
            "grid_template_columns": null,
            "grid_template_rows": null,
            "height": null,
            "justify_content": null,
            "justify_items": null,
            "left": null,
            "margin": null,
            "max_height": null,
            "max_width": null,
            "min_height": null,
            "min_width": null,
            "object_fit": null,
            "object_position": null,
            "order": null,
            "overflow": null,
            "overflow_x": null,
            "overflow_y": null,
            "padding": null,
            "right": null,
            "top": null,
            "visibility": null,
            "width": null
          }
        },
        "bf5440fa9c9b4be5aa885ab2cf2a0775": {
          "model_module": "@jupyter-widgets/controls",
          "model_name": "DescriptionStyleModel",
          "model_module_version": "1.5.0",
          "state": {
            "_model_module": "@jupyter-widgets/controls",
            "_model_module_version": "1.5.0",
            "_model_name": "DescriptionStyleModel",
            "_view_count": null,
            "_view_module": "@jupyter-widgets/base",
            "_view_module_version": "1.2.0",
            "_view_name": "StyleView",
            "description_width": ""
          }
        },
        "53c9c71305844ca8a92096eecdff06c6": {
          "model_module": "@jupyter-widgets/base",
          "model_name": "LayoutModel",
          "model_module_version": "1.2.0",
          "state": {
            "_model_module": "@jupyter-widgets/base",
            "_model_module_version": "1.2.0",
            "_model_name": "LayoutModel",
            "_view_count": null,
            "_view_module": "@jupyter-widgets/base",
            "_view_module_version": "1.2.0",
            "_view_name": "LayoutView",
            "align_content": null,
            "align_items": null,
            "align_self": null,
            "border": null,
            "bottom": null,
            "display": null,
            "flex": null,
            "flex_flow": null,
            "grid_area": null,
            "grid_auto_columns": null,
            "grid_auto_flow": null,
            "grid_auto_rows": null,
            "grid_column": null,
            "grid_gap": null,
            "grid_row": null,
            "grid_template_areas": null,
            "grid_template_columns": null,
            "grid_template_rows": null,
            "height": null,
            "justify_content": null,
            "justify_items": null,
            "left": null,
            "margin": null,
            "max_height": null,
            "max_width": null,
            "min_height": null,
            "min_width": null,
            "object_fit": null,
            "object_position": null,
            "order": null,
            "overflow": null,
            "overflow_x": null,
            "overflow_y": null,
            "padding": null,
            "right": null,
            "top": null,
            "visibility": null,
            "width": null
          }
        },
        "f4de00c9048b418eaf9bf5b99aac893e": {
          "model_module": "@jupyter-widgets/controls",
          "model_name": "ProgressStyleModel",
          "model_module_version": "1.5.0",
          "state": {
            "_model_module": "@jupyter-widgets/controls",
            "_model_module_version": "1.5.0",
            "_model_name": "ProgressStyleModel",
            "_view_count": null,
            "_view_module": "@jupyter-widgets/base",
            "_view_module_version": "1.2.0",
            "_view_name": "StyleView",
            "bar_color": null,
            "description_width": ""
          }
        },
        "209052d3ceb14c39a324798180c6512e": {
          "model_module": "@jupyter-widgets/base",
          "model_name": "LayoutModel",
          "model_module_version": "1.2.0",
          "state": {
            "_model_module": "@jupyter-widgets/base",
            "_model_module_version": "1.2.0",
            "_model_name": "LayoutModel",
            "_view_count": null,
            "_view_module": "@jupyter-widgets/base",
            "_view_module_version": "1.2.0",
            "_view_name": "LayoutView",
            "align_content": null,
            "align_items": null,
            "align_self": null,
            "border": null,
            "bottom": null,
            "display": null,
            "flex": null,
            "flex_flow": null,
            "grid_area": null,
            "grid_auto_columns": null,
            "grid_auto_flow": null,
            "grid_auto_rows": null,
            "grid_column": null,
            "grid_gap": null,
            "grid_row": null,
            "grid_template_areas": null,
            "grid_template_columns": null,
            "grid_template_rows": null,
            "height": null,
            "justify_content": null,
            "justify_items": null,
            "left": null,
            "margin": null,
            "max_height": null,
            "max_width": null,
            "min_height": null,
            "min_width": null,
            "object_fit": null,
            "object_position": null,
            "order": null,
            "overflow": null,
            "overflow_x": null,
            "overflow_y": null,
            "padding": null,
            "right": null,
            "top": null,
            "visibility": null,
            "width": null
          }
        },
        "1958e1c83e934864bd29af384303de37": {
          "model_module": "@jupyter-widgets/controls",
          "model_name": "DescriptionStyleModel",
          "model_module_version": "1.5.0",
          "state": {
            "_model_module": "@jupyter-widgets/controls",
            "_model_module_version": "1.5.0",
            "_model_name": "DescriptionStyleModel",
            "_view_count": null,
            "_view_module": "@jupyter-widgets/base",
            "_view_module_version": "1.2.0",
            "_view_name": "StyleView",
            "description_width": ""
          }
        },
        "bdf3c422751742d7b851cda51e337094": {
          "model_module": "@jupyter-widgets/controls",
          "model_name": "HBoxModel",
          "model_module_version": "1.5.0",
          "state": {
            "_dom_classes": [],
            "_model_module": "@jupyter-widgets/controls",
            "_model_module_version": "1.5.0",
            "_model_name": "HBoxModel",
            "_view_count": null,
            "_view_module": "@jupyter-widgets/controls",
            "_view_module_version": "1.5.0",
            "_view_name": "HBoxView",
            "box_style": "",
            "children": [
              "IPY_MODEL_13f522f501b64112b4579119ee6248f2",
              "IPY_MODEL_760047c2ab9f4fb69e73bf8f4d2871c1",
              "IPY_MODEL_a084032b0c314bd887247875e099fec6"
            ],
            "layout": "IPY_MODEL_2989df98a65a4870a427253319994069"
          }
        },
        "13f522f501b64112b4579119ee6248f2": {
          "model_module": "@jupyter-widgets/controls",
          "model_name": "HTMLModel",
          "model_module_version": "1.5.0",
          "state": {
            "_dom_classes": [],
            "_model_module": "@jupyter-widgets/controls",
            "_model_module_version": "1.5.0",
            "_model_name": "HTMLModel",
            "_view_count": null,
            "_view_module": "@jupyter-widgets/controls",
            "_view_module_version": "1.5.0",
            "_view_name": "HTMLView",
            "description": "",
            "description_tooltip": null,
            "layout": "IPY_MODEL_da4e7123279b4ae9be01d1105fe2b740",
            "placeholder": "​",
            "style": "IPY_MODEL_27afeecdbbf1402194fe43350dc507d0",
            "value": "100%"
          }
        },
        "760047c2ab9f4fb69e73bf8f4d2871c1": {
          "model_module": "@jupyter-widgets/controls",
          "model_name": "FloatProgressModel",
          "model_module_version": "1.5.0",
          "state": {
            "_dom_classes": [],
            "_model_module": "@jupyter-widgets/controls",
            "_model_module_version": "1.5.0",
            "_model_name": "FloatProgressModel",
            "_view_count": null,
            "_view_module": "@jupyter-widgets/controls",
            "_view_module_version": "1.5.0",
            "_view_name": "ProgressView",
            "bar_style": "success",
            "description": "",
            "description_tooltip": null,
            "layout": "IPY_MODEL_ab9775c655ad4c35954ac8d4931400e0",
            "max": 4542,
            "min": 0,
            "orientation": "horizontal",
            "style": "IPY_MODEL_31bc18533be943a68c563af0e8e994af",
            "value": 4542
          }
        },
        "a084032b0c314bd887247875e099fec6": {
          "model_module": "@jupyter-widgets/controls",
          "model_name": "HTMLModel",
          "model_module_version": "1.5.0",
          "state": {
            "_dom_classes": [],
            "_model_module": "@jupyter-widgets/controls",
            "_model_module_version": "1.5.0",
            "_model_name": "HTMLModel",
            "_view_count": null,
            "_view_module": "@jupyter-widgets/controls",
            "_view_module_version": "1.5.0",
            "_view_name": "HTMLView",
            "description": "",
            "description_tooltip": null,
            "layout": "IPY_MODEL_e3db833e65714c3e922653f3fe1d743c",
            "placeholder": "​",
            "style": "IPY_MODEL_202866337eb942c5ae0fbab56f9f748c",
            "value": " 4542/4542 [00:00&lt;00:00, 149978.18it/s]"
          }
        },
        "2989df98a65a4870a427253319994069": {
          "model_module": "@jupyter-widgets/base",
          "model_name": "LayoutModel",
          "model_module_version": "1.2.0",
          "state": {
            "_model_module": "@jupyter-widgets/base",
            "_model_module_version": "1.2.0",
            "_model_name": "LayoutModel",
            "_view_count": null,
            "_view_module": "@jupyter-widgets/base",
            "_view_module_version": "1.2.0",
            "_view_name": "LayoutView",
            "align_content": null,
            "align_items": null,
            "align_self": null,
            "border": null,
            "bottom": null,
            "display": null,
            "flex": null,
            "flex_flow": null,
            "grid_area": null,
            "grid_auto_columns": null,
            "grid_auto_flow": null,
            "grid_auto_rows": null,
            "grid_column": null,
            "grid_gap": null,
            "grid_row": null,
            "grid_template_areas": null,
            "grid_template_columns": null,
            "grid_template_rows": null,
            "height": null,
            "justify_content": null,
            "justify_items": null,
            "left": null,
            "margin": null,
            "max_height": null,
            "max_width": null,
            "min_height": null,
            "min_width": null,
            "object_fit": null,
            "object_position": null,
            "order": null,
            "overflow": null,
            "overflow_x": null,
            "overflow_y": null,
            "padding": null,
            "right": null,
            "top": null,
            "visibility": null,
            "width": null
          }
        },
        "da4e7123279b4ae9be01d1105fe2b740": {
          "model_module": "@jupyter-widgets/base",
          "model_name": "LayoutModel",
          "model_module_version": "1.2.0",
          "state": {
            "_model_module": "@jupyter-widgets/base",
            "_model_module_version": "1.2.0",
            "_model_name": "LayoutModel",
            "_view_count": null,
            "_view_module": "@jupyter-widgets/base",
            "_view_module_version": "1.2.0",
            "_view_name": "LayoutView",
            "align_content": null,
            "align_items": null,
            "align_self": null,
            "border": null,
            "bottom": null,
            "display": null,
            "flex": null,
            "flex_flow": null,
            "grid_area": null,
            "grid_auto_columns": null,
            "grid_auto_flow": null,
            "grid_auto_rows": null,
            "grid_column": null,
            "grid_gap": null,
            "grid_row": null,
            "grid_template_areas": null,
            "grid_template_columns": null,
            "grid_template_rows": null,
            "height": null,
            "justify_content": null,
            "justify_items": null,
            "left": null,
            "margin": null,
            "max_height": null,
            "max_width": null,
            "min_height": null,
            "min_width": null,
            "object_fit": null,
            "object_position": null,
            "order": null,
            "overflow": null,
            "overflow_x": null,
            "overflow_y": null,
            "padding": null,
            "right": null,
            "top": null,
            "visibility": null,
            "width": null
          }
        },
        "27afeecdbbf1402194fe43350dc507d0": {
          "model_module": "@jupyter-widgets/controls",
          "model_name": "DescriptionStyleModel",
          "model_module_version": "1.5.0",
          "state": {
            "_model_module": "@jupyter-widgets/controls",
            "_model_module_version": "1.5.0",
            "_model_name": "DescriptionStyleModel",
            "_view_count": null,
            "_view_module": "@jupyter-widgets/base",
            "_view_module_version": "1.2.0",
            "_view_name": "StyleView",
            "description_width": ""
          }
        },
        "ab9775c655ad4c35954ac8d4931400e0": {
          "model_module": "@jupyter-widgets/base",
          "model_name": "LayoutModel",
          "model_module_version": "1.2.0",
          "state": {
            "_model_module": "@jupyter-widgets/base",
            "_model_module_version": "1.2.0",
            "_model_name": "LayoutModel",
            "_view_count": null,
            "_view_module": "@jupyter-widgets/base",
            "_view_module_version": "1.2.0",
            "_view_name": "LayoutView",
            "align_content": null,
            "align_items": null,
            "align_self": null,
            "border": null,
            "bottom": null,
            "display": null,
            "flex": null,
            "flex_flow": null,
            "grid_area": null,
            "grid_auto_columns": null,
            "grid_auto_flow": null,
            "grid_auto_rows": null,
            "grid_column": null,
            "grid_gap": null,
            "grid_row": null,
            "grid_template_areas": null,
            "grid_template_columns": null,
            "grid_template_rows": null,
            "height": null,
            "justify_content": null,
            "justify_items": null,
            "left": null,
            "margin": null,
            "max_height": null,
            "max_width": null,
            "min_height": null,
            "min_width": null,
            "object_fit": null,
            "object_position": null,
            "order": null,
            "overflow": null,
            "overflow_x": null,
            "overflow_y": null,
            "padding": null,
            "right": null,
            "top": null,
            "visibility": null,
            "width": null
          }
        },
        "31bc18533be943a68c563af0e8e994af": {
          "model_module": "@jupyter-widgets/controls",
          "model_name": "ProgressStyleModel",
          "model_module_version": "1.5.0",
          "state": {
            "_model_module": "@jupyter-widgets/controls",
            "_model_module_version": "1.5.0",
            "_model_name": "ProgressStyleModel",
            "_view_count": null,
            "_view_module": "@jupyter-widgets/base",
            "_view_module_version": "1.2.0",
            "_view_name": "StyleView",
            "bar_color": null,
            "description_width": ""
          }
        },
        "e3db833e65714c3e922653f3fe1d743c": {
          "model_module": "@jupyter-widgets/base",
          "model_name": "LayoutModel",
          "model_module_version": "1.2.0",
          "state": {
            "_model_module": "@jupyter-widgets/base",
            "_model_module_version": "1.2.0",
            "_model_name": "LayoutModel",
            "_view_count": null,
            "_view_module": "@jupyter-widgets/base",
            "_view_module_version": "1.2.0",
            "_view_name": "LayoutView",
            "align_content": null,
            "align_items": null,
            "align_self": null,
            "border": null,
            "bottom": null,
            "display": null,
            "flex": null,
            "flex_flow": null,
            "grid_area": null,
            "grid_auto_columns": null,
            "grid_auto_flow": null,
            "grid_auto_rows": null,
            "grid_column": null,
            "grid_gap": null,
            "grid_row": null,
            "grid_template_areas": null,
            "grid_template_columns": null,
            "grid_template_rows": null,
            "height": null,
            "justify_content": null,
            "justify_items": null,
            "left": null,
            "margin": null,
            "max_height": null,
            "max_width": null,
            "min_height": null,
            "min_width": null,
            "object_fit": null,
            "object_position": null,
            "order": null,
            "overflow": null,
            "overflow_x": null,
            "overflow_y": null,
            "padding": null,
            "right": null,
            "top": null,
            "visibility": null,
            "width": null
          }
        },
        "202866337eb942c5ae0fbab56f9f748c": {
          "model_module": "@jupyter-widgets/controls",
          "model_name": "DescriptionStyleModel",
          "model_module_version": "1.5.0",
          "state": {
            "_model_module": "@jupyter-widgets/controls",
            "_model_module_version": "1.5.0",
            "_model_name": "DescriptionStyleModel",
            "_view_count": null,
            "_view_module": "@jupyter-widgets/base",
            "_view_module_version": "1.2.0",
            "_view_name": "StyleView",
            "description_width": ""
          }
        }
      }
    }
  },
  "nbformat": 4,
  "nbformat_minor": 5
}